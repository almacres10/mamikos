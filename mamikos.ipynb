{
 "cells": [
  {
   "cell_type": "markdown",
   "metadata": {},
   "source": [
    "Step 1\n",
    "Import Library dan Modul yang dibutuhkan"
   ]
  },
  {
   "cell_type": "code",
   "execution_count": null,
   "metadata": {},
   "outputs": [],
   "source": [
    "import re, pandas as pd, time\n",
    "from selenium import webdriver\n",
    "from selenium.webdriver.common.by import By\n",
    "from selenium.webdriver.support import expected_conditions as EC\n",
    "from selenium.common.exceptions import NoSuchElementException, ElementNotInteractableException, TimeoutException\n",
    "from selenium.webdriver.chrome.service import Service\n",
    "from selenium.webdriver.support.ui import WebDriverWait"
   ]
  },
  {
   "cell_type": "code",
   "execution_count": null,
   "metadata": {},
   "outputs": [],
   "source": [
    "Step 2\n",
    "Konfigurasikan alamat web, webdriver dan service nya"
   ]
  },
  {
   "cell_type": "code",
   "execution_count": 2,
   "metadata": {},
   "outputs": [],
   "source": [
    "executable_path = r\"chromedriver\\120\\chromedriver.exe\"\n",
    "service = Service(executable_path)\n",
    "options = webdriver.ChromeOptions()\n",
    "options.add_argument(\"--disable-blink-features=AutomationControlled\")\n",
    "options.add_experimental_option(\"excludeSwitches\", [\"enable-automation\"])   \n",
    "options.add_experimental_option(\"useAutomationExtension\", False) \n",
    "options.add_argument('--ignore-certificate-errors')\n",
    "driver = webdriver.Chrome(service=service, options=options)\n",
    "\n",
    "driver.get(\"https://mamikos.com/\") "
   ]
  },
  {
   "cell_type": "markdown",
   "metadata": {},
   "source": [
    "Step 3\n",
    "Script looping untuk menekan NEXT button"
   ]
  },
  {
   "cell_type": "code",
   "execution_count": null,
   "metadata": {},
   "outputs": [],
   "source": [
    "def scroll_down():\n",
    "        driver.execute_script(\"window.scrollTo(0, document.body.scrollHeight);\")\n",
    "\n",
    "start_time = time.time()\n",
    "\n",
    "time.sleep(5)\n",
    "\n",
    "cari = driver.find_element(By. XPATH, '//*[@id=\"home\"]/div[4]/div/div/div/div[1]')\n",
    "cari.click()\n",
    "\n",
    "time.sleep(2)\n",
    "\n",
    "area = driver.find_element(By. XPATH, '//*[@id=\"home\"]/div[13]/div/div[2]/div[2]/ul/li[2]/a')\n",
    "area.click()\n",
    "\n",
    "time.sleep(2)\n",
    "\n",
    "kota = driver.find_element(By. XPATH, '//*[@id=\"home\"]/div[13]/div/div[2]/div[4]/div/div[25]/details/summary')\n",
    "kota.click()\n",
    "\n",
    "time.sleep(2)\n",
    "\n",
    "kota_2 = driver.find_element(By. XPATH, '//*[@id=\"home\"]/div[13]/div/div[2]/div[4]/div/div[25]/details/div/a[5]')\n",
    "kota_2.click()\n",
    "\n",
    "time.sleep(5)\n",
    "\n",
    "list_df = []\n",
    "\n",
    "\n",
    "while True:\n",
    "    try:\n",
    "        # Coba temukan next_button\n",
    "        next_button = WebDriverWait(driver, 10).until(EC.element_to_be_clickable((By.CLASS_NAME, 'list__content-load-link')))\n",
    "        next_button.click()\n",
    "\n",
    "        # Tunggu hingga halaman selanjutnya dimuat\n",
    "        WebDriverWait(driver, 20).until(\n",
    "            EC.presence_of_element_located((By.XPATH, '//*[@id=\"app\"]/div/div[5]/div/div[1]/div/div/div[1]/div[1]/div[1]'))\n",
    "        )\n",
    "\n",
    "        scroll_down()\n",
    "        time.sleep(3)\n",
    "\n",
    "    except ElementNotInteractableException:\n",
    "        # Tangani popup dengan menekan tombol OK\n",
    "        alert_button_xpath = '//*[@id=\"filterKostTypeWrapper\"]/div/div[1]/div[1]/div/div/div[3]/button'\n",
    "        try:\n",
    "            alert_button = driver.find_element(By.XPATH, alert_button_xpath)\n",
    "            alert_button.click()\n",
    "            print(\"Popup ditangani.\")\n",
    "        except NoSuchElementException:\n",
    "            print(\"Tidak dapat menemukan tombol OK pada popup.\")\n",
    "            break\n",
    "    except NoSuchElementException:\n",
    "        print(\"Tidak ada next\")\n",
    "        break\n",
    "    except TimeoutException:\n",
    "        # Tangani popup dengan menekan tombol OK\n",
    "        alert_button_xpath = '//*[@id=\"filterKostTypeWrapper\"]/div/div[1]/div[1]/div/div/div[3]/button'\n",
    "        try:\n",
    "            alert_button = driver.find_element(By.XPATH, alert_button_xpath)\n",
    "            alert_button.click()\n",
    "            print(\"Popup ditangani.\")\n",
    "        except NoSuchElementException:\n",
    "            print(\"Tidak dapat menemukan tombol OK pada popup.\")\n",
    "            break\n",
    "\n",
    "time.sleep(3)"
   ]
  },
  {
   "cell_type": "code",
   "execution_count": 7,
   "metadata": {},
   "outputs": [],
   "source": [
    "elemen_nama = driver.find_elements(By. CLASS_NAME, 'rc-info')\n",
    "elemen_fasilitas = driver.find_elements(By. CLASS_NAME, 'rc-facilities')\n",
    "elemen_harga = driver.find_elements(By. CLASS_NAME, 'rc-price__text')\n",
    "\n",
    "data = []\n",
    "\n",
    "for nama, fasilitas, harga in zip(elemen_nama, elemen_fasilitas, elemen_harga):\n",
    "    fasilitas_text = re.sub(r'[^a-zA-Z0-9\\s]', '', fasilitas.text)\n",
    "\n",
    "\n",
    "    data.append({\n",
    "        'Nama_Kos': nama.text,\n",
    "        'Fasilitas': fasilitas_text,\n",
    "        'Harga': harga.text\n",
    "    })\n",
    "\n",
    "# Membuat DataFrame dari list data setelah loop selesai\n",
    "df = pd.DataFrame(data)"
   ]
  },
  {
   "cell_type": "code",
   "execution_count": null,
   "metadata": {},
   "outputs": [],
   "source": [
    "df"
   ]
  },
  {
   "cell_type": "code",
   "execution_count": null,
   "metadata": {},
   "outputs": [],
   "source": [
    "df.to_csv('hasil_scrapping.csv', index=False)"
   ]
  }
 ],
 "metadata": {
  "kernelspec": {
   "display_name": "Python 3",
   "language": "python",
   "name": "python3"
  },
  "language_info": {
   "codemirror_mode": {
    "name": "ipython",
    "version": 3
   },
   "file_extension": ".py",
   "mimetype": "text/x-python",
   "name": "python",
   "nbconvert_exporter": "python",
   "pygments_lexer": "ipython3",
   "version": "3.12.1"
  }
 },
 "nbformat": 4,
 "nbformat_minor": 2
}
